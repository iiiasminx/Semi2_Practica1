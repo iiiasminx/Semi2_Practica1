{
 "cells": [
  {
   "cell_type": "code",
   "execution_count": null,
   "metadata": {},
   "outputs": [],
   "source": [
    "import os"
   ]
  },
  {
   "cell_type": "code",
   "execution_count": null,
   "metadata": {},
   "outputs": [],
   "source": [
    "def crearModelo():\n",
    "    print(\"Creando Modelo\")"
   ]
  },
  {
   "cell_type": "code",
   "execution_count": null,
   "metadata": {},
   "outputs": [],
   "source": [
    "def cargarInfo(): \n",
    "    print(\"Cargando Información\")"
   ]
  },
  {
   "cell_type": "code",
   "execution_count": null,
   "metadata": {},
   "outputs": [],
   "source": [
    "def consultar(): \n",
    "    print(\"-- Consultas --\")\n",
    "    print(\"1. Top 10 artistas con más reproducciones\")\n",
    "    print(\"2. Top 10 canciones más reproducidas\")\n",
    "    print(\"3. Top 5 géneros más reproducidos\")\n",
    "    print(\"4. El artista más reproducido de cada género\")\n",
    "    print(\"5. La canción más reproducida por cada género\")\n",
    "    print(\"6. La canción más reproducida por año de lanzamiento\")\n",
    "    print(\"7. Top 10 artistas más populares\")\n",
    "    print(\"8. Top 10 canciones más populares\")\n",
    "    print(\"9. Top 5 géneros más populares\")\n",
    "    print(\"10. La canción explícita más reproducida por género\")\n",
    "\n",
    "    consulta = input()\n",
    "    print(consulta)"
   ]
  },
  {
   "cell_type": "code",
   "execution_count": null,
   "metadata": {},
   "outputs": [],
   "source": [
    "\n",
    "def inicial():\n",
    "    print(\"\\n\\n\\n\")\n",
    "    print(\"UNIVERSIDAD DE SAN CARLOS DE GUATEMALA\")\n",
    "    print(\"FACULTAD DE INGENIERÍA\")\n",
    "    print(\"YÁSMIN ELISA MONTERROSO ESCOBEDO\")\n",
    "    print(\"\\n\\n-- MENU --\\n\\n\")\n",
    "    print(\"1. Crear Modelo\")\n",
    "    print(\"2. Cargar Información\")\n",
    "    print(\"3. Realizar Consultas\")\n",
    "    print(\"4.salir\")\n",
    "\n",
    "    choice = input()\n",
    "    if choice == \"1\":\n",
    "        crearModelo()\n",
    "    elif choice == \"2\": \n",
    "        cargarInfo()\n",
    "    elif choice == \"3\": \n",
    "        consultar()\n",
    "    else:\n",
    "        print(\"bai O/\")\n",
    "        return   \n",
    "    \n",
    "    inicial()"
   ]
  },
  {
   "cell_type": "code",
   "execution_count": 2,
   "metadata": {},
   "outputs": [],
   "source": [
    "import logging\n",
    "logger = logging.getLogger()\n",
    "fhandler = logging.FileHandler(filename='test_log.log', mode='a')\n",
    "logger.addHandler(fhandler)\n",
    "logging.warning('This is a warning message')"
   ]
  },
  {
   "cell_type": "code",
   "execution_count": null,
   "metadata": {},
   "outputs": [],
   "source": []
  }
 ],
 "metadata": {
  "kernelspec": {
   "display_name": "Python 3 (ipykernel)",
   "language": "python",
   "name": "python3"
  },
  "language_info": {
   "codemirror_mode": {
    "name": "ipython",
    "version": 3
   },
   "file_extension": ".py",
   "mimetype": "text/x-python",
   "name": "python",
   "nbconvert_exporter": "python",
   "pygments_lexer": "ipython3",
   "version": "3.10.5"
  },
  "vscode": {
   "interpreter": {
    "hash": "ad1c4bb2783b7bd860bd922727c4e41a0eeb56870714fe3b427a4b282f2f63f0"
   }
  }
 },
 "nbformat": 4,
 "nbformat_minor": 2
}
